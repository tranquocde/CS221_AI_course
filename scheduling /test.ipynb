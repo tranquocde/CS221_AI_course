{
 "cells": [
  {
   "cell_type": "code",
   "execution_count": 4,
   "metadata": {},
   "outputs": [
    {
     "name": "stdout",
     "output_type": "stream",
     "text": [
      "Course{cid: CS221, name: Artificial Intelligence: Principles and Techniques, quarters: ['Aut', 'Sum'], units: 3-4, prereqs: ['CS107', 'CS103', 'CS106X', 'CS106B']}\n"
     ]
    },
    {
     "data": {
      "text/plain": [
       "True"
      ]
     },
     "execution_count": 4,
     "metadata": {},
     "output_type": "execute_result"
    }
   ],
   "source": [
    "import util\n",
    "#load bulletin\n",
    "bulletin = util.CourseBulletin('courses.json')\n",
    "#retrieve information of CS221\n",
    "cs221 = bulletin.courses['CS221']\n",
    "print(cs221)\n",
    "cs221.cid\n",
    "cs221.is_offered_in('Aut2018')"
   ]
  },
  {
   "cell_type": "code",
   "execution_count": 9,
   "metadata": {},
   "outputs": [
    {
     "name": "stdout",
     "output_type": "stream",
     "text": [
      "Units: 3-9\n",
      "Quarter: ['Aut2017', 'Win2018']\n",
      "Taken: {'CS229'}\n",
      "Requests:\n",
      "  Request{['CS228'] ['Aut2017'] [] 1}\n",
      "  Request{['CS229T'] [] ['CS228'] 2.0}\n"
     ]
    },
    {
     "data": {
      "text/plain": [
       "['Aut2017', 'Win2018']"
      ]
     },
     "execution_count": 9,
     "metadata": {},
     "output_type": "execute_result"
    }
   ],
   "source": [
    "profile  = util.Profile(bulletin,'profile_example.txt')\n",
    "profile.print_info()\n",
    "profile.quarters"
   ]
  },
  {
   "cell_type": "code",
   "execution_count": 8,
   "metadata": {},
   "outputs": [
    {
     "name": "stdout",
     "output_type": "stream",
     "text": [
      "['CS228'] ['Aut2017'] [] 1\n",
      "['CS229T'] [] ['CS228'] 2.0\n"
     ]
    }
   ],
   "source": [
    "for request in profile.requests:\n",
    "    print(request.cids,request.quarters,request.prereqs,request.weight)"
   ]
  },
  {
   "cell_type": "code",
   "execution_count": null,
   "metadata": {},
   "outputs": [],
   "source": []
  }
 ],
 "metadata": {
  "kernelspec": {
   "display_name": "Python 3",
   "language": "python",
   "name": "python3"
  },
  "language_info": {
   "codemirror_mode": {
    "name": "ipython",
    "version": 3
   },
   "file_extension": ".py",
   "mimetype": "text/x-python",
   "name": "python",
   "nbconvert_exporter": "python",
   "pygments_lexer": "ipython3",
   "version": "3.9.13"
  },
  "orig_nbformat": 4,
  "vscode": {
   "interpreter": {
    "hash": "40d3a090f54c6569ab1632332b64b2c03c39dcf918b08424e98f38b5ae0af88f"
   }
  }
 },
 "nbformat": 4,
 "nbformat_minor": 2
}
